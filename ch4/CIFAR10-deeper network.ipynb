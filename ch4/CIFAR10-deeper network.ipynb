{
 "cells": [
  {
   "cell_type": "code",
   "execution_count": 1,
   "metadata": {},
   "outputs": [],
   "source": [
    "import tensorflow as tf\n",
    "from tensorflow.keras import datasets, models, layers, optimizers"
   ]
  },
  {
   "cell_type": "code",
   "execution_count": 2,
   "metadata": {},
   "outputs": [],
   "source": [
    "# CIFAR10 is a set of 60K images of 3 color channels of size 32x32.\n",
    "IMG_CHANNELS = 3\n",
    "IMG_ROWS = 32\n",
    "IMG_COLS = 32"
   ]
  },
  {
   "cell_type": "code",
   "execution_count": 3,
   "metadata": {},
   "outputs": [],
   "source": [
    "# OTHER CONSTANTS\n",
    "BATCH_SIZE = 32\n",
    "EPOCHS = 20\n",
    "CLASSES = 10\n",
    "VERBOSE = 1\n",
    "VALIDATION_SPLIT = 0.2\n",
    "OPTIM = tf.keras.optimizers.RMSprop()"
   ]
  },
  {
   "cell_type": "code",
   "execution_count": 4,
   "metadata": {},
   "outputs": [],
   "source": [
    "(X_train, y_train), (X_test, y_test) = tf.keras.datasets.cifar10.load_data()"
   ]
  },
  {
   "cell_type": "code",
   "execution_count": 5,
   "metadata": {},
   "outputs": [],
   "source": [
    "# Defining the model.\n",
    "def build(input_shape, classes):\n",
    "    model = models.Sequential()\n",
    "    \n",
    "    # 1st block of the model.\n",
    "    # conv -> batchNormalization -> conv -> batchNormalization -> maxPooling -> dropout.\n",
    "    model.add(layers.Convolution2D(32, (3,3), padding='same', input_shape=input_shape, activation='relu'))\n",
    "    model.add(layers.BatchNormalization())\n",
    "    model.add(layers.Convolution2D(32, (3,3), padding='same', activation='relu'))\n",
    "    model.add(layers.BatchNormalization())\n",
    "    model.add(layers.MaxPooling2D(pool_size=(2,2)))\n",
    "    model.add(layers.Dropout(0.2))\n",
    "        \n",
    "    # 2nd block of the model.\n",
    "    # conv -> batchNormalization -> conv -> batchNormalization -> maxPooling -> dropout.\n",
    "    model.add(layers.Convolution2D(64, (3,3), padding='same', activation='relu'))\n",
    "    model.add(layers.BatchNormalization())\n",
    "    model.add(layers.Convolution2D(64, (3,3), padding='same', activation='relu'))\n",
    "    model.add(layers.BatchNormalization())\n",
    "    model.add(layers.MaxPooling2D(pool_size=(2,2)))\n",
    "    model.add(layers.Dropout(0.3))\n",
    "    \n",
    "    # 3rd block of the model.\n",
    "    # conv -> batchNormalization -> conv -> batchNormalization -> maxPooling -> dropout.\n",
    "    model.add(layers.Convolution2D(128, (3,3), padding='same', activation='relu'))\n",
    "    model.add(layers.BatchNormalization())\n",
    "    model.add(layers.Convolution2D(128, (3,3), padding='same', activation='relu'))\n",
    "    model.add(layers.BatchNormalization())\n",
    "    model.add(layers.MaxPooling2D(pool_size=(2,2)))\n",
    "    model.add(layers.Dropout(0.4))\n",
    "\n",
    "    # Dense\n",
    "    model.add(layers.Flatten())\n",
    "    model.add(layers.Dense(classes, activation ='softmax'))\n",
    "    return model\n",
    "    "
   ]
  },
  {
   "cell_type": "code",
   "execution_count": 6,
   "metadata": {},
   "outputs": [],
   "source": [
    "# Callbacks.\n",
    "callbacks = [\n",
    "    # Write tensorboard logs to ./logs directory.\n",
    "    tf.keras.callbacks.TensorBoard(log_dir='./logs')\n",
    "]"
   ]
  },
  {
   "cell_type": "code",
   "execution_count": 7,
   "metadata": {},
   "outputs": [
    {
     "data": {
      "text/plain": [
       "(50000, 10)"
      ]
     },
     "execution_count": 7,
     "metadata": {},
     "output_type": "execute_result"
    }
   ],
   "source": [
    "X_train = X_train.reshape(-1,32,32,3)\n",
    "X_test = X_test.reshape(-1,32,32,3)\n",
    "X_train = X_train/255.0\n",
    "X_test = X_test/255.0\n",
    "y_train = tf.keras.utils.to_categorical(y_train, num_classes=CLASSES)\n",
    "y_test = tf.keras.utils.to_categorical(y_test, num_classes=CLASSES)\n",
    "y_train.shape"
   ]
  },
  {
   "cell_type": "code",
   "execution_count": null,
   "metadata": {},
   "outputs": [
    {
     "name": "stdout",
     "output_type": "stream",
     "text": [
      "Epoch 1/20\n",
      "   1/1250 [..............................] - ETA: 0s - loss: 5.2061 - accuracy: 0.0625WARNING:tensorflow:From c:\\users\\archi\\scoop\\apps\\miniconda3\\current\\lib\\site-packages\\tensorflow\\python\\ops\\summary_ops_v2.py:1277: stop (from tensorflow.python.eager.profiler) is deprecated and will be removed after 2020-07-01.\n",
      "Instructions for updating:\n",
      "use `tf.profiler.experimental.stop` instead.\n",
      "1250/1250 [==============================] - 509s 407ms/step - loss: 1.8112 - accuracy: 0.4699 - val_loss: 1.8527 - val_accuracy: 0.6092\n",
      "Epoch 2/20\n",
      "1250/1250 [==============================] - 490s 392ms/step - loss: 1.1526 - accuracy: 0.6343 - val_loss: 1.1770 - val_accuracy: 0.6121\n",
      "Epoch 3/20\n",
      "1250/1250 [==============================] - 511s 409ms/step - loss: 0.9141 - accuracy: 0.6933 - val_loss: 0.8362 - val_accuracy: 0.7089\n",
      "Epoch 4/20\n",
      "1250/1250 [==============================] - 576s 461ms/step - loss: 0.7764 - accuracy: 0.7334 - val_loss: 0.7825 - val_accuracy: 0.7311\n",
      "Epoch 5/20\n",
      "1250/1250 [==============================] - 1014s 811ms/step - loss: 0.6926 - accuracy: 0.7624 - val_loss: 0.6543 - val_accuracy: 0.7801\n",
      "Epoch 6/20\n",
      "1250/1250 [==============================] - 1479s 1s/step - loss: 0.6220 - accuracy: 0.7850 - val_loss: 0.7592 - val_accuracy: 0.7439\n",
      "Epoch 7/20\n",
      "1250/1250 [==============================] - 1135s 908ms/step - loss: 0.5785 - accuracy: 0.7990 - val_loss: 0.5624 - val_accuracy: 0.8069\n",
      "Epoch 8/20\n",
      "1250/1250 [==============================] - 759s 608ms/step - loss: 0.5406 - accuracy: 0.8123 - val_loss: 0.5700 - val_accuracy: 0.8058\n",
      "Epoch 9/20\n",
      "1250/1250 [==============================] - 673s 538ms/step - loss: 0.4979 - accuracy: 0.8261 - val_loss: 0.5655 - val_accuracy: 0.8046\n",
      "Epoch 10/20\n",
      " 547/1250 [============>.................] - ETA: 6:06 - loss: 0.4616 - accuracy: 0.8385"
     ]
    }
   ],
   "source": [
    "INPUT_SHAPE = (IMG_ROWS, IMG_COLS, IMG_CHANNELS)\n",
    "model = build(INPUT_SHAPE, CLASSES)\n",
    "model.compile(loss='categorical_crossentropy', optimizer=OPTIM, metrics=['accuracy'])\n",
    "history = model.fit(X_train,y_train,batch_size=BATCH_SIZE, epochs=EPOCHS, validation_split=VALIDATION_SPLIT, verbose=VERBOSE, callbacks=callbacks)"
   ]
  },
  {
   "cell_type": "code",
   "execution_count": null,
   "metadata": {},
   "outputs": [],
   "source": [
    "score = model.evaluate(X_test, y_test, batch_size= BATCH_SIZE, verbose = VERBOSE)\n",
    "print(\"\\nTest Score: \", score[0])\n",
    "print(\"Test Accuracy:\", score[1])"
   ]
  },
  {
   "cell_type": "code",
   "execution_count": null,
   "metadata": {},
   "outputs": [],
   "source": [
    "log_dir = './logs'\n",
    "%tensorboard --logdir log_dir"
   ]
  },
  {
   "cell_type": "code",
   "execution_count": null,
   "metadata": {},
   "outputs": [],
   "source": []
  }
 ],
 "metadata": {
  "kernelspec": {
   "display_name": "Python 3",
   "language": "python",
   "name": "python3"
  },
  "language_info": {
   "codemirror_mode": {
    "name": "ipython",
    "version": 3
   },
   "file_extension": ".py",
   "mimetype": "text/x-python",
   "name": "python",
   "nbconvert_exporter": "python",
   "pygments_lexer": "ipython3",
   "version": "3.7.4"
  }
 },
 "nbformat": 4,
 "nbformat_minor": 4
}
