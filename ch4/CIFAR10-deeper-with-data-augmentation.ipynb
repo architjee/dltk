{
 "cells": [
  {
   "cell_type": "code",
   "execution_count": 2,
   "metadata": {},
   "outputs": [],
   "source": [
    "import tensorflow as tf\n",
    "from tensorflow.keras import datasets, models, layers, optimizers\n",
    "from tensorflow.keras.preprocessing.image import ImageDataGenerator"
   ]
  },
  {
   "cell_type": "code",
   "execution_count": 3,
   "metadata": {},
   "outputs": [],
   "source": [
    "# CIFAR10 is a set of 60K images of 3 color channels of size 32x32.\n",
    "IMG_CHANNELS = 3\n",
    "IMG_ROWS = 32\n",
    "IMG_COLS = 32"
   ]
  },
  {
   "cell_type": "code",
   "execution_count": 4,
   "metadata": {},
   "outputs": [],
   "source": [
    "# OTHER CONSTANTS\n",
    "BATCH_SIZE = 32\n",
    "EPOCHS = 20\n",
    "CLASSES = 10\n",
    "VERBOSE = 1\n",
    "VALIDATION_SPLIT = 0.2\n",
    "OPTIM = tf.keras.optimizers.RMSprop()"
   ]
  },
  {
   "cell_type": "code",
   "execution_count": 5,
   "metadata": {},
   "outputs": [],
   "source": [
    "(X_train, y_train), (X_test, y_test) = tf.keras.datasets.cifar10.load_data()"
   ]
  },
  {
   "cell_type": "code",
   "execution_count": 6,
   "metadata": {},
   "outputs": [],
   "source": [
    "# Image augmnetation\n",
    "datagen = ImageDataGenerator(\n",
    "    rotation_range = 30,\n",
    "    width_shift_range= 0.2,\n",
    "    height_shift_range = 0.2,\n",
    "    horizontal_flip=True\n",
    ")\n",
    "datagen.fit(X_train)"
   ]
  },
  {
   "cell_type": "code",
   "execution_count": 7,
   "metadata": {},
   "outputs": [],
   "source": [
    "# Defining the model.\n",
    "def build(input_shape, classes):\n",
    "    model = models.Sequential()\n",
    "    \n",
    "    # 1st block of the model.\n",
    "    # conv -> batchNormalization -> conv -> batchNormalization -> maxPooling -> dropout.\n",
    "    model.add(layers.Convolution2D(32, (3,3), padding='same', input_shape=input_shape, activation='relu'))\n",
    "    model.add(layers.BatchNormalization())\n",
    "    model.add(layers.Convolution2D(32, (3,3), padding='same', activation='relu'))\n",
    "    model.add(layers.BatchNormalization())\n",
    "    model.add(layers.MaxPooling2D(pool_size=(2,2)))\n",
    "    model.add(layers.Dropout(0.2))\n",
    "        \n",
    "    # 2nd block of the model.\n",
    "    # conv -> batchNormalization -> conv -> batchNormalization -> maxPooling -> dropout.\n",
    "    model.add(layers.Convolution2D(64, (3,3), padding='same', activation='relu'))\n",
    "    model.add(layers.BatchNormalization())\n",
    "    model.add(layers.Convolution2D(64, (3,3), padding='same', activation='relu'))\n",
    "    model.add(layers.BatchNormalization())\n",
    "    model.add(layers.MaxPooling2D(pool_size=(2,2)))\n",
    "    model.add(layers.Dropout(0.3))\n",
    "    \n",
    "    # 3rd block of the model.\n",
    "    # conv -> batchNormalization -> conv -> batchNormalization -> maxPooling -> dropout.\n",
    "    model.add(layers.Convolution2D(128, (3,3), padding='same', activation='relu'))\n",
    "    model.add(layers.BatchNormalization())\n",
    "    model.add(layers.Convolution2D(128, (3,3), padding='same', activation='relu'))\n",
    "    model.add(layers.BatchNormalization())\n",
    "    model.add(layers.MaxPooling2D(pool_size=(2,2)))\n",
    "    model.add(layers.Dropout(0.4))\n",
    "\n",
    "    # Dense\n",
    "    model.add(layers.Flatten())\n",
    "    model.add(layers.Dense(classes, activation ='softmax'))\n",
    "    return model\n",
    "    "
   ]
  },
  {
   "cell_type": "code",
   "execution_count": 8,
   "metadata": {},
   "outputs": [],
   "source": [
    "# Callbacks.\n",
    "callbacks = [\n",
    "    # Write tensorboard logs to ./logs directory.\n",
    "    tf.keras.callbacks.TensorBoard(log_dir='./logs')\n",
    "]"
   ]
  },
  {
   "cell_type": "code",
   "execution_count": 9,
   "metadata": {},
   "outputs": [
    {
     "data": {
      "text/plain": [
       "(50000, 10)"
      ]
     },
     "execution_count": 9,
     "metadata": {},
     "output_type": "execute_result"
    }
   ],
   "source": [
    "X_train = X_train.reshape(-1,32,32,3)\n",
    "X_test = X_test.reshape(-1,32,32,3)\n",
    "X_train = X_train/255.0\n",
    "X_test = X_test/255.0\n",
    "y_train = tf.keras.utils.to_categorical(y_train, num_classes=CLASSES)\n",
    "y_test = tf.keras.utils.to_categorical(y_test, num_classes=CLASSES)\n",
    "y_train.shape"
   ]
  },
  {
   "cell_type": "code",
   "execution_count": null,
   "metadata": {},
   "outputs": [
    {
     "name": "stdout",
     "output_type": "stream",
     "text": [
      "Epoch 1/20\n",
      "   1/1250 [..............................] - ETA: 1s - loss: 4.7613 - accuracy: 0.0625WARNING:tensorflow:From c:\\users\\archi\\scoop\\apps\\miniconda3\\current\\lib\\site-packages\\tensorflow\\python\\ops\\summary_ops_v2.py:1277: stop (from tensorflow.python.eager.profiler) is deprecated and will be removed after 2020-07-01.\n",
      "Instructions for updating:\n",
      "use `tf.profiler.experimental.stop` instead.\n",
      "1250/1250 [==============================] - 1014s 811ms/step - loss: 1.8254 - accuracy: 0.4509 - val_loss: 1.4937 - val_accuracy: 0.5807\n",
      "Epoch 2/20\n",
      "1250/1250 [==============================] - 1261s 1s/step - loss: 1.1267 - accuracy: 0.6308 - val_loss: 1.0308 - val_accuracy: 0.6395\n",
      "Epoch 3/20\n",
      "1250/1250 [==============================] - 1361s 1s/step - loss: 0.8911 - accuracy: 0.6996 - val_loss: 1.0294 - val_accuracy: 0.6541\n",
      "Epoch 4/20\n",
      "1250/1250 [==============================] - 768s 614ms/step - loss: 0.7638 - accuracy: 0.7391 - val_loss: 0.7219 - val_accuracy: 0.7497\n",
      "Epoch 5/20\n",
      "1250/1250 [==============================] - 670s 536ms/step - loss: 0.6804 - accuracy: 0.7684 - val_loss: 0.6803 - val_accuracy: 0.7701\n",
      "Epoch 6/20\n",
      "1250/1250 [==============================] - 670s 536ms/step - loss: 0.6209 - accuracy: 0.7867 - val_loss: 0.6477 - val_accuracy: 0.7761\n",
      "Epoch 7/20\n",
      "1250/1250 [==============================] - 671s 537ms/step - loss: 0.5788 - accuracy: 0.8020 - val_loss: 0.6682 - val_accuracy: 0.7726\n",
      "Epoch 8/20\n",
      "1250/1250 [==============================] - 699s 559ms/step - loss: 0.5360 - accuracy: 0.8141 - val_loss: 0.5932 - val_accuracy: 0.7951\n",
      "Epoch 9/20\n",
      "1250/1250 [==============================] - 738s 590ms/step - loss: 0.5048 - accuracy: 0.8241 - val_loss: 0.5675 - val_accuracy: 0.8053\n",
      "Epoch 10/20\n",
      "1106/1250 [=========================>....] - ETA: 1:23 - loss: 0.4694 - accuracy: 0.8354"
     ]
    }
   ],
   "source": [
    "INPUT_SHAPE = (IMG_ROWS, IMG_COLS, IMG_CHANNELS)\n",
    "model = build(INPUT_SHAPE, CLASSES)\n",
    "model.compile(loss='categorical_crossentropy', optimizer=OPTIM, metrics=['accuracy'])\n",
    "history = model.fit(X_train,y_train,batch_size=BATCH_SIZE, epochs=EPOCHS, validation_split=VALIDATION_SPLIT, verbose=VERBOSE, callbacks=callbacks)"
   ]
  },
  {
   "cell_type": "code",
   "execution_count": null,
   "metadata": {},
   "outputs": [],
   "source": [
    "score = model.evaluate(X_test, y_test, batch_size= BATCH_SIZE, verbose = VERBOSE)\n",
    "print(\"\\nTest Score: \", score[0])\n",
    "print(\"Test Accuracy:\", score[1])"
   ]
  },
  {
   "cell_type": "code",
   "execution_count": null,
   "metadata": {},
   "outputs": [],
   "source": [
    "log_dir = './logs'\n",
    "%tensorboard --logdir log_dir"
   ]
  },
  {
   "cell_type": "code",
   "execution_count": null,
   "metadata": {},
   "outputs": [],
   "source": []
  }
 ],
 "metadata": {
  "kernelspec": {
   "display_name": "Python 3",
   "language": "python",
   "name": "python3"
  },
  "language_info": {
   "codemirror_mode": {
    "name": "ipython",
    "version": 3
   },
   "file_extension": ".py",
   "mimetype": "text/x-python",
   "name": "python",
   "nbconvert_exporter": "python",
   "pygments_lexer": "ipython3",
   "version": "3.7.4"
  }
 },
 "nbformat": 4,
 "nbformat_minor": 4
}
