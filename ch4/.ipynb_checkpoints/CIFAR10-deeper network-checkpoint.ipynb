{
 "cells": [
  {
   "cell_type": "code",
   "execution_count": 1,
   "metadata": {},
   "outputs": [],
   "source": [
    "import tensorflow as tf\n",
    "from tensorflow.keras import datasets, models, layers, optimizers"
   ]
  },
  {
   "cell_type": "code",
   "execution_count": 2,
   "metadata": {},
   "outputs": [],
   "source": [
    "# CIFAR10 is a set of 60K images of 3 color channels of size 32x32.\n",
    "IMG_CHANNELS = 3\n",
    "IMG_ROWS = 32\n",
    "IMG_COLS = 32"
   ]
  },
  {
   "cell_type": "code",
   "execution_count": 3,
   "metadata": {},
   "outputs": [],
   "source": [
    "# OTHER CONSTANTS\n",
    "BATCH_SIZE = 32\n",
    "EPOCHS = 20\n",
    "CLASSES = 10\n",
    "VERBOSE = 1\n",
    "VALIDATION_SPLIT = 0.2\n",
    "OPTIM = tf.keras.optimizers.RMSprop()"
   ]
  },
  {
   "cell_type": "code",
   "execution_count": 4,
   "metadata": {},
   "outputs": [],
   "source": [
    "# Defining the model.\n",
    "def build(input_shape, classes):\n",
    "    model = models.Sequential()\n",
    "    model.add(layers.Convolution2D(32, (3,3), activation ='relu', input_shape=input_shape))\n",
    "    model.add(layers.MaxPooling2D(pool_size=(2,2)))\n",
    "    model.add(layers.Dropout(0.25))\n",
    "    \n",
    "    # Now flattening -> Dense -> Dropout -> DenseofClasses.\n",
    "    model.add(layers.Flatten())\n",
    "    model.add(layers.Dense(512, activation='relu'))\n",
    "    model.add(layers.Dropout(0.5))\n",
    "    model.add(layers.Dense(classes, activation='softmax'))\n",
    "    return model"
   ]
  },
  {
   "cell_type": "code",
   "execution_count": 5,
   "metadata": {},
   "outputs": [],
   "source": [
    "# Callbacks.\n",
    "callbacks = [\n",
    "    # Write tensorboard logs to ./logs directory.\n",
    "    tf.keras.callbacks.TensorBoard(log_dir='./logs')\n",
    "]"
   ]
  },
  {
   "cell_type": "code",
   "execution_count": 6,
   "metadata": {},
   "outputs": [],
   "source": [
    "(X_train, y_train), (X_test, y_test) = tf.keras.datasets.cifar10.load_data()"
   ]
  },
  {
   "cell_type": "code",
   "execution_count": 7,
   "metadata": {},
   "outputs": [
    {
     "data": {
      "text/plain": [
       "(50000, 10)"
      ]
     },
     "execution_count": 7,
     "metadata": {},
     "output_type": "execute_result"
    }
   ],
   "source": [
    "X_train = X_train.reshape(-1,32,32,3)\n",
    "X_test = X_test.reshape(-1,32,32,3)\n",
    "X_train = X_train/255.0\n",
    "X_test = X_test/255.0\n",
    "y_train = tf.keras.utils.to_categorical(y_train, num_classes=CLASSES)\n",
    "y_test = tf.keras.utils.to_categorical(y_test, num_classes=CLASSES)\n",
    "y_train.shape"
   ]
  },
  {
   "cell_type": "code",
   "execution_count": null,
   "metadata": {},
   "outputs": [
    {
     "name": "stdout",
     "output_type": "stream",
     "text": [
      "Epoch 1/20\n",
      "   1/1250 [..............................] - ETA: 1s - loss: 2.2862 - accuracy: 0.1250WARNING:tensorflow:From c:\\users\\archi\\scoop\\apps\\miniconda3\\current\\lib\\site-packages\\tensorflow\\python\\ops\\summary_ops_v2.py:1277: stop (from tensorflow.python.eager.profiler) is deprecated and will be removed after 2020-07-01.\n",
      "Instructions for updating:\n",
      "use `tf.profiler.experimental.stop` instead.\n",
      "1250/1250 [==============================] - 123s 98ms/step - loss: 1.5913 - accuracy: 0.4347 - val_loss: 1.3696 - val_accuracy: 0.5205\n",
      "Epoch 2/20\n",
      "1250/1250 [==============================] - 111s 89ms/step - loss: 1.3063 - accuracy: 0.5462 - val_loss: 1.2087 - val_accuracy: 0.5819\n",
      "Epoch 3/20\n",
      "1250/1250 [==============================] - 112s 90ms/step - loss: 1.2039 - accuracy: 0.5860 - val_loss: 1.2454 - val_accuracy: 0.5892\n",
      "Epoch 4/20\n",
      "1250/1250 [==============================] - 107s 86ms/step - loss: 1.1423 - accuracy: 0.6101 - val_loss: 1.1605 - val_accuracy: 0.6119\n",
      "Epoch 5/20\n",
      "1250/1250 [==============================] - 108s 86ms/step - loss: 1.1116 - accuracy: 0.6255 - val_loss: 1.1259 - val_accuracy: 0.6296\n",
      "Epoch 6/20\n",
      " 639/1250 [==============>...............] - ETA: 51s - loss: 1.0798 - accuracy: 0.6371"
     ]
    }
   ],
   "source": [
    "INPUT_SHAPE = (IMG_ROWS, IMG_COLS, IMG_CHANNELS)\n",
    "model = build(INPUT_SHAPE, CLASSES)\n",
    "model.compile(loss='categorical_crossentropy', optimizer=OPTIM, metrics=['accuracy'])\n",
    "history = model.fit(X_train,y_train,batch_size=BATCH_SIZE, epochs=EPOCHS, validation_split=VALIDATION_SPLIT, verbose=VERBOSE, callbacks=callbacks)"
   ]
  },
  {
   "cell_type": "code",
   "execution_count": null,
   "metadata": {},
   "outputs": [],
   "source": [
    "score = model.evaluate(X_test, y_test, batch_size= BATCH_SIZE, verbose = VERBOSE)\n",
    "print(\"\\nTest Score: \", score[0])\n",
    "print(\"Test Accuracy:\", score[1])"
   ]
  },
  {
   "cell_type": "code",
   "execution_count": null,
   "metadata": {},
   "outputs": [],
   "source": [
    "log_dir = './logs'\n",
    "%tensorboard --logdir log_dir"
   ]
  }
 ],
 "metadata": {
  "kernelspec": {
   "display_name": "Python 3",
   "language": "python",
   "name": "python3"
  },
  "language_info": {
   "codemirror_mode": {
    "name": "ipython",
    "version": 3
   },
   "file_extension": ".py",
   "mimetype": "text/x-python",
   "name": "python",
   "nbconvert_exporter": "python",
   "pygments_lexer": "ipython3",
   "version": "3.7.4"
  }
 },
 "nbformat": 4,
 "nbformat_minor": 4
}
