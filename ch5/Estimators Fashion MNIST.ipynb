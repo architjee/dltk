{
 "cells": [
  {
   "cell_type": "code",
   "execution_count": 1,
   "metadata": {},
   "outputs": [],
   "source": [
    "import os\n",
    "import time\n",
    "import tensorflow as tf\n",
    "import numpy as np"
   ]
  },
  {
   "cell_type": "code",
   "execution_count": 2,
   "metadata": {},
   "outputs": [],
   "source": [
    "LABEL_DIMENSIONS = 10"
   ]
  },
  {
   "cell_type": "code",
   "execution_count": 3,
   "metadata": {},
   "outputs": [
    {
     "name": "stdout",
     "output_type": "stream",
     "text": [
      "Downloading data from https://storage.googleapis.com/tensorflow/tf-keras-datasets/train-labels-idx1-ubyte.gz\n",
      "32768/29515 [=================================] - 0s 3us/step\n",
      "Downloading data from https://storage.googleapis.com/tensorflow/tf-keras-datasets/train-images-idx3-ubyte.gz\n",
      "26427392/26421880 [==============================] - 275s 10us/step\n",
      "Downloading data from https://storage.googleapis.com/tensorflow/tf-keras-datasets/t10k-labels-idx1-ubyte.gz\n",
      "8192/5148 [===============================================] - 0s 44us/step\n",
      "Downloading data from https://storage.googleapis.com/tensorflow/tf-keras-datasets/t10k-images-idx3-ubyte.gz\n",
      "4423680/4422102 [==============================] - 70s 16us/step\n"
     ]
    }
   ],
   "source": [
    "(train_images, train_labels), (test_images, test_labels) = tf.keras.datasets.fashion_mnist.load_data()\n",
    "TRAINING_SIZE = len(train_images)\n",
    "TEST_SIZE = len(test_images)"
   ]
  },
  {
   "cell_type": "code",
   "execution_count": 17,
   "metadata": {},
   "outputs": [],
   "source": [
    "train_images = np.asarray(train_images, dtype=np.float32) /255.0\n",
    "test_images = np.asarray(test_images, dtype=np.float32) /255.0"
   ]
  },
  {
   "cell_type": "code",
   "execution_count": 18,
   "metadata": {},
   "outputs": [],
   "source": [
    "# Convert the images and add channels.\n",
    "train_images = train_images.reshape(-1, 28, 28, 1)\n",
    "test_images = test_images.reshape(-1, 28,28,1)"
   ]
  },
  {
   "cell_type": "code",
   "execution_count": 19,
   "metadata": {},
   "outputs": [],
   "source": [
    "train_labels = tf.keras.utils.to_categorical(train_labels, LABEL_DIMENSIONS)\n",
    "test_labels = tf.keras.utils.to_categorical(test_labels, LABEL_DIMENSIONS)"
   ]
  },
  {
   "cell_type": "code",
   "execution_count": 23,
   "metadata": {},
   "outputs": [
    {
     "name": "stdout",
     "output_type": "stream",
     "text": [
      "Model: \"functional_1\"\n",
      "_________________________________________________________________\n",
      "Layer (type)                 Output Shape              Param #   \n",
      "=================================================================\n",
      "input_1 (InputLayer)         [(None, 28, 28, 1)]       0         \n",
      "_________________________________________________________________\n",
      "conv2d (Conv2D)              (None, 26, 26, 32)        320       \n",
      "_________________________________________________________________\n",
      "max_pooling2d (MaxPooling2D) (None, 13, 13, 32)        0         \n",
      "_________________________________________________________________\n",
      "conv2d_1 (Conv2D)            (None, 11, 11, 64)        18496     \n",
      "_________________________________________________________________\n",
      "max_pooling2d_1 (MaxPooling2 (None, 5, 5, 64)          0         \n",
      "_________________________________________________________________\n",
      "conv2d_2 (Conv2D)            (None, 3, 3, 64)          36928     \n",
      "_________________________________________________________________\n",
      "flatten (Flatten)            (None, 576)               0         \n",
      "_________________________________________________________________\n",
      "dense (Dense)                (None, 64)                36928     \n",
      "_________________________________________________________________\n",
      "dense_1 (Dense)              (None, 10)                650       \n",
      "=================================================================\n",
      "Total params: 93,322\n",
      "Trainable params: 93,322\n",
      "Non-trainable params: 0\n",
      "_________________________________________________________________\n"
     ]
    }
   ],
   "source": [
    "# Building a convolutional model with tf.keras functional API.\n",
    "inputs = tf.keras.Input(shape=(28,28,1))\n",
    "x= tf.keras.layers.Conv2D(filters=32, kernel_size=(3,3), activation='relu') (inputs)\n",
    "x = tf.keras.layers.MaxPooling2D(pool_size=(2, 2), strides=2)(x)\n",
    "x = tf.keras.layers.Conv2D(filters=64, kernel_size=(3, 3),\n",
    "activation='relu')(x)\n",
    "x = tf.keras.layers.MaxPooling2D(pool_size=(2, 2), strides=2)(x)\n",
    "x = tf.keras.layers.Conv2D(filters=64, kernel_size=(3, 3),\n",
    "activation='relu')(x)\n",
    "x = tf.keras.layers.Flatten()(x)\n",
    "x = tf.keras.layers.Dense(64, activation='relu')(x)\n",
    "predictions = tf.keras.layers.Dense(LABEL_DIMENSIONS,\n",
    "activation='softmax')(x)\n",
    "model = tf.keras.Model(inputs=inputs, outputs=predictions)\n",
    "model.summary()"
   ]
  },
  {
   "cell_type": "code",
   "execution_count": 24,
   "metadata": {},
   "outputs": [],
   "source": [
    "optimizer = tf.keras.optimizers.SGD()\n",
    "model.compile(loss='categorical_crossentropy',\n",
    "optimizer=optimizer,\n",
    "metrics=['accuracy'])"
   ]
  },
  {
   "cell_type": "code",
   "execution_count": 25,
   "metadata": {},
   "outputs": [],
   "source": [
    "strategy = None\n",
    "#strategy = tf.distribute.MirroredStrategy()\n",
    "config = tf.estimator.RunConfig(train_distribute=strategy)"
   ]
  },
  {
   "cell_type": "code",
   "execution_count": 26,
   "metadata": {},
   "outputs": [
    {
     "name": "stdout",
     "output_type": "stream",
     "text": [
      "WARNING:tensorflow:Using temporary folder as model directory: C:\\Users\\archi\\AppData\\Local\\Temp\\tmptbudqe14\n",
      "INFO:tensorflow:Using the Keras model provided.\n",
      "WARNING:tensorflow:From c:\\users\\archi\\scoop\\apps\\miniconda3\\current\\lib\\site-packages\\tensorflow_estimator\\python\\estimator\\keras.py:220: set_learning_phase (from tensorflow.python.keras.backend) is deprecated and will be removed after 2020-10-11.\n",
      "Instructions for updating:\n",
      "Simply pass a True/False value to the `training` argument of the `__call__` method of your layer or model.\n",
      "INFO:tensorflow:Using config: {'_model_dir': 'C:\\\\Users\\\\archi\\\\AppData\\\\Local\\\\Temp\\\\tmptbudqe14', '_tf_random_seed': None, '_save_summary_steps': 100, '_save_checkpoints_steps': None, '_save_checkpoints_secs': 600, '_session_config': allow_soft_placement: true\n",
      "graph_options {\n",
      "  rewrite_options {\n",
      "    meta_optimizer_iterations: ONE\n",
      "  }\n",
      "}\n",
      ", '_keep_checkpoint_max': 5, '_keep_checkpoint_every_n_hours': 10000, '_log_step_count_steps': 100, '_train_distribute': None, '_device_fn': None, '_protocol': None, '_eval_distribute': None, '_experimental_distribute': None, '_experimental_max_worker_delay_secs': None, '_session_creation_timeout_secs': 7200, '_service': None, '_cluster_spec': ClusterSpec({}), '_task_type': 'worker', '_task_id': 0, '_global_id_in_cluster': 0, '_master': '', '_evaluation_master': '', '_is_chief': True, '_num_ps_replicas': 0, '_num_worker_replicas': 1}\n"
     ]
    }
   ],
   "source": [
    "estimator = tf.keras.estimator.model_to_estimator(model,\n",
    "config=config)"
   ]
  },
  {
   "cell_type": "code",
   "execution_count": 27,
   "metadata": {},
   "outputs": [],
   "source": [
    "def input_fn(images, labels, epochs, batch_size):\n",
    "    # Convert the inputs to a Dataset.\n",
    "    dataset = tf.data.Dataset.from_tensor_slices((images,labels))\n",
    "    # Shuffle, repeat and batch of examples.\n",
    "    SHUFFLE_SIZE = 5000\n",
    "    dataset = dataset.shuffle(SHUFFLE_SIZE).repeat(epochs).batch(batch_size)\n",
    "    dataset = dataset.prefetch(None)\n",
    "    # return the dataset.\n",
    "    return dataset"
   ]
  },
  {
   "cell_type": "code",
   "execution_count": 28,
   "metadata": {},
   "outputs": [
    {
     "name": "stdout",
     "output_type": "stream",
     "text": [
      "WARNING:tensorflow:From c:\\users\\archi\\scoop\\apps\\miniconda3\\current\\lib\\site-packages\\tensorflow\\python\\training\\training_util.py:236: Variable.initialized_value (from tensorflow.python.ops.variables) is deprecated and will be removed in a future version.\n",
      "Instructions for updating:\n",
      "Use Variable.read_value. Variables in 2.X are initialized automatically both in eager and graph (inside tf.defun) contexts.\n",
      "INFO:tensorflow:Calling model_fn.\n",
      "INFO:tensorflow:Done calling model_fn.\n",
      "INFO:tensorflow:Warm-starting with WarmStartSettings: WarmStartSettings(ckpt_to_initialize_from='C:\\\\Users\\\\archi\\\\AppData\\\\Local\\\\Temp\\\\tmptbudqe14\\\\keras\\\\keras_model.ckpt', vars_to_warm_start='.*', var_name_to_vocab_info={}, var_name_to_prev_var_name={})\n",
      "INFO:tensorflow:Warm-starting from: C:\\Users\\archi\\AppData\\Local\\Temp\\tmptbudqe14\\keras\\keras_model.ckpt\n",
      "INFO:tensorflow:Warm-starting variables only in TRAINABLE_VARIABLES.\n",
      "INFO:tensorflow:Warm-started 10 variables.\n",
      "INFO:tensorflow:Create CheckpointSaverHook.\n",
      "INFO:tensorflow:Graph was finalized.\n",
      "INFO:tensorflow:Running local_init_op.\n",
      "INFO:tensorflow:Done running local_init_op.\n",
      "INFO:tensorflow:Calling checkpoint listeners before saving checkpoint 0...\n",
      "INFO:tensorflow:Saving checkpoints for 0 into C:\\Users\\archi\\AppData\\Local\\Temp\\tmptbudqe14\\model.ckpt.\n",
      "INFO:tensorflow:Calling checkpoint listeners after saving checkpoint 0...\n",
      "INFO:tensorflow:loss = 2.3026729, step = 0\n",
      "INFO:tensorflow:global_step/sec: 2.43089\n",
      "INFO:tensorflow:loss = 2.3024514, step = 100 (41.136 sec)\n",
      "INFO:tensorflow:global_step/sec: 2.31482\n",
      "INFO:tensorflow:loss = 2.302311, step = 200 (43.198 sec)\n",
      "INFO:tensorflow:global_step/sec: 2.32617\n",
      "INFO:tensorflow:loss = 2.3023078, step = 300 (42.988 sec)\n",
      "INFO:tensorflow:global_step/sec: 2.3387\n",
      "INFO:tensorflow:loss = 2.302506, step = 400 (42.760 sec)\n",
      "INFO:tensorflow:global_step/sec: 2.35257\n",
      "INFO:tensorflow:loss = 2.302291, step = 500 (42.506 sec)\n",
      "INFO:tensorflow:global_step/sec: 2.36139\n",
      "INFO:tensorflow:loss = 2.3022566, step = 600 (42.345 sec)\n",
      "INFO:tensorflow:global_step/sec: 2.32595\n",
      "INFO:tensorflow:loss = 2.302269, step = 700 (42.995 sec)\n",
      "INFO:tensorflow:global_step/sec: 2.29109\n",
      "INFO:tensorflow:loss = 2.3023708, step = 800 (43.649 sec)\n",
      "INFO:tensorflow:global_step/sec: 2.30963\n",
      "INFO:tensorflow:loss = 2.302299, step = 900 (43.296 sec)\n",
      "INFO:tensorflow:global_step/sec: 2.32235\n",
      "INFO:tensorflow:loss = 2.3025122, step = 1000 (43.060 sec)\n",
      "INFO:tensorflow:global_step/sec: 2.35329\n",
      "INFO:tensorflow:loss = 2.302363, step = 1100 (42.494 sec)\n",
      "INFO:tensorflow:global_step/sec: 2.33202\n",
      "INFO:tensorflow:loss = 2.3022923, step = 1200 (42.881 sec)\n",
      "INFO:tensorflow:global_step/sec: 2.32355\n",
      "INFO:tensorflow:loss = 2.3024035, step = 1300 (43.036 sec)\n",
      "INFO:tensorflow:Calling checkpoint listeners before saving checkpoint 1382...\n",
      "INFO:tensorflow:Saving checkpoints for 1382 into C:\\Users\\archi\\AppData\\Local\\Temp\\tmptbudqe14\\model.ckpt.\n",
      "INFO:tensorflow:Calling checkpoint listeners after saving checkpoint 1382...\n",
      "INFO:tensorflow:global_step/sec: 2.12255\n",
      "INFO:tensorflow:loss = 2.30236, step = 1400 (47.114 sec)\n",
      "INFO:tensorflow:global_step/sec: 2.31917\n",
      "INFO:tensorflow:loss = 2.302302, step = 1500 (43.120 sec)\n",
      "INFO:tensorflow:global_step/sec: 2.36159\n",
      "INFO:tensorflow:loss = 2.302348, step = 1600 (42.345 sec)\n",
      "INFO:tensorflow:global_step/sec: 2.37108\n",
      "INFO:tensorflow:loss = 2.302182, step = 1700 (42.174 sec)\n",
      "INFO:tensorflow:global_step/sec: 2.38806\n",
      "INFO:tensorflow:loss = 2.3023586, step = 1800 (41.874 sec)\n",
      "INFO:tensorflow:global_step/sec: 2.37261\n",
      "INFO:tensorflow:loss = 2.302257, step = 1900 (42.143 sec)\n",
      "INFO:tensorflow:global_step/sec: 2.38335\n",
      "INFO:tensorflow:loss = 2.3022141, step = 2000 (41.962 sec)\n",
      "INFO:tensorflow:global_step/sec: 2.37651\n",
      "INFO:tensorflow:loss = 2.3022552, step = 2100 (42.076 sec)\n",
      "INFO:tensorflow:global_step/sec: 2.34746\n",
      "INFO:tensorflow:loss = 2.3023634, step = 2200 (42.603 sec)\n",
      "INFO:tensorflow:global_step/sec: 2.35303\n",
      "INFO:tensorflow:loss = 2.302246, step = 2300 (42.497 sec)\n",
      "INFO:tensorflow:global_step/sec: 2.36028\n",
      "INFO:tensorflow:loss = 2.3022013, step = 2400 (42.371 sec)\n",
      "INFO:tensorflow:global_step/sec: 2.37963\n",
      "INFO:tensorflow:loss = 2.3023522, step = 2500 (42.020 sec)\n",
      "INFO:tensorflow:global_step/sec: 2.37397\n",
      "INFO:tensorflow:loss = 2.3022323, step = 2600 (42.128 sec)\n",
      "INFO:tensorflow:global_step/sec: 2.38293\n",
      "INFO:tensorflow:loss = 2.3021693, step = 2700 (41.958 sec)\n",
      "INFO:tensorflow:Calling checkpoint listeners before saving checkpoint 2792...\n",
      "INFO:tensorflow:Saving checkpoints for 2792 into C:\\Users\\archi\\AppData\\Local\\Temp\\tmptbudqe14\\model.ckpt.\n",
      "INFO:tensorflow:Calling checkpoint listeners after saving checkpoint 2792...\n",
      "INFO:tensorflow:global_step/sec: 2.21276\n",
      "INFO:tensorflow:loss = 2.3022966, step = 2800 (45.195 sec)\n",
      "INFO:tensorflow:global_step/sec: 2.39587\n",
      "INFO:tensorflow:loss = 2.3022475, step = 2900 (41.739 sec)\n",
      "INFO:tensorflow:global_step/sec: 2.39026\n",
      "INFO:tensorflow:loss = 2.3022013, step = 3000 (41.839 sec)\n",
      "INFO:tensorflow:global_step/sec: 2.35672\n",
      "INFO:tensorflow:loss = 2.3022575, step = 3100 (42.430 sec)\n",
      "INFO:tensorflow:global_step/sec: 2.35982\n",
      "INFO:tensorflow:loss = 2.3022375, step = 3200 (42.384 sec)\n",
      "INFO:tensorflow:global_step/sec: 3.34618\n",
      "INFO:tensorflow:loss = 2.302177, step = 3300 (29.878 sec)\n",
      "INFO:tensorflow:global_step/sec: 3.33337\n",
      "INFO:tensorflow:loss = 2.3022542, step = 3400 (30.010 sec)\n",
      "INFO:tensorflow:global_step/sec: 3.33241\n",
      "INFO:tensorflow:loss = 2.3025022, step = 3500 (30.000 sec)\n",
      "INFO:tensorflow:global_step/sec: 3.34628\n",
      "INFO:tensorflow:loss = 2.302188, step = 3600 (29.881 sec)\n",
      "INFO:tensorflow:global_step/sec: 3.33792\n",
      "INFO:tensorflow:loss = 2.3022697, step = 3700 (29.962 sec)\n",
      "INFO:tensorflow:global_step/sec: 3.36006\n",
      "INFO:tensorflow:loss = 2.3022175, step = 3800 (29.761 sec)\n",
      "INFO:tensorflow:global_step/sec: 3.31973\n",
      "INFO:tensorflow:loss = 2.302147, step = 3900 (30.132 sec)\n",
      "INFO:tensorflow:global_step/sec: 2.79303\n",
      "INFO:tensorflow:loss = 2.3020446, step = 4000 (35.795 sec)\n",
      "INFO:tensorflow:global_step/sec: 2.32199\n",
      "INFO:tensorflow:loss = 2.3021712, step = 4100 (43.062 sec)\n",
      "INFO:tensorflow:global_step/sec: 2.34559\n",
      "INFO:tensorflow:loss = 2.3023813, step = 4200 (42.629 sec)\n",
      "INFO:tensorflow:global_step/sec: 2.35238\n",
      "INFO:tensorflow:loss = 2.3022609, step = 4300 (42.527 sec)\n",
      "INFO:tensorflow:global_step/sec: 2.34877\n",
      "INFO:tensorflow:loss = 2.302307, step = 4400 (42.565 sec)\n",
      "INFO:tensorflow:Calling checkpoint listeners before saving checkpoint 4421...\n",
      "INFO:tensorflow:Saving checkpoints for 4421 into C:\\Users\\archi\\AppData\\Local\\Temp\\tmptbudqe14\\model.ckpt.\n",
      "INFO:tensorflow:Calling checkpoint listeners after saving checkpoint 4421...\n",
      "INFO:tensorflow:global_step/sec: 2.19377\n",
      "INFO:tensorflow:loss = 2.3022375, step = 4500 (45.577 sec)\n",
      "INFO:tensorflow:global_step/sec: 2.32283\n",
      "INFO:tensorflow:loss = 2.3022046, step = 4600 (43.051 sec)\n",
      "INFO:tensorflow:global_step/sec: 2.31597\n",
      "INFO:tensorflow:loss = 2.3023686, step = 4700 (43.197 sec)\n",
      "INFO:tensorflow:global_step/sec: 2.47604\n",
      "INFO:tensorflow:loss = 2.3021917, step = 4800 (40.384 sec)\n",
      "INFO:tensorflow:global_step/sec: 2.82854\n",
      "INFO:tensorflow:loss = 2.302071, step = 4900 (35.343 sec)\n",
      "INFO:tensorflow:global_step/sec: 2.93997\n",
      "INFO:tensorflow:loss = 2.302134, step = 5000 (34.014 sec)\n",
      "INFO:tensorflow:global_step/sec: 2.96216\n",
      "INFO:tensorflow:loss = 2.302116, step = 5100 (33.754 sec)\n",
      "INFO:tensorflow:global_step/sec: 2.95001\n",
      "INFO:tensorflow:loss = 2.302154, step = 5200 (33.903 sec)\n",
      "INFO:tensorflow:global_step/sec: 2.93963\n",
      "INFO:tensorflow:loss = 2.3023114, step = 5300 (34.021 sec)\n",
      "INFO:tensorflow:global_step/sec: 2.9708\n",
      "INFO:tensorflow:loss = 2.3021164, step = 5400 (33.653 sec)\n",
      "INFO:tensorflow:global_step/sec: 2.90229\n",
      "INFO:tensorflow:loss = 2.3022323, step = 5500 (34.456 sec)\n",
      "INFO:tensorflow:global_step/sec: 2.95746\n",
      "INFO:tensorflow:loss = 2.3021684, step = 5600 (33.818 sec)\n",
      "INFO:tensorflow:global_step/sec: 2.95455\n",
      "INFO:tensorflow:loss = 2.3021436, step = 5700 (33.841 sec)\n",
      "INFO:tensorflow:global_step/sec: 2.96739\n",
      "INFO:tensorflow:loss = 2.3021028, step = 5800 (33.702 sec)\n",
      "INFO:tensorflow:Calling checkpoint listeners before saving checkpoint 5860...\n",
      "INFO:tensorflow:Saving checkpoints for 5860 into C:\\Users\\archi\\AppData\\Local\\Temp\\tmptbudqe14\\model.ckpt.\n",
      "INFO:tensorflow:Calling checkpoint listeners after saving checkpoint 5860...\n"
     ]
    },
    {
     "name": "stdout",
     "output_type": "stream",
     "text": [
      "INFO:tensorflow:Loss for final step: 2.302049.\n",
      "<tensorflow_estimator.python.estimator.estimator.EstimatorV2 object at 0x0000017B0AC4DE08>\n"
     ]
    }
   ],
   "source": [
    "BATCH_SIZE = 512\n",
    "EPOCHS = 50\n",
    "estimator_train_result = estimator.train(input_fn=lambda:input_fn(train_images, train_labels, epochs = EPOCHS, batch_size =BATCH_SIZE))\n",
    "print(estimator_train_result)"
   ]
  },
  {
   "cell_type": "code",
   "execution_count": 29,
   "metadata": {},
   "outputs": [
    {
     "name": "stdout",
     "output_type": "stream",
     "text": [
      "INFO:tensorflow:Calling model_fn.\n",
      "WARNING:tensorflow:From c:\\users\\archi\\scoop\\apps\\miniconda3\\current\\lib\\site-packages\\tensorflow\\python\\keras\\engine\\training_v1.py:2048: Model.state_updates (from tensorflow.python.keras.engine.training) is deprecated and will be removed in a future version.\n",
      "Instructions for updating:\n",
      "This property should not be used in TensorFlow 2.0, as updates are applied automatically.\n",
      "INFO:tensorflow:Done calling model_fn.\n",
      "INFO:tensorflow:Starting evaluation at 2021-01-24T15:04:36Z\n",
      "INFO:tensorflow:Graph was finalized.\n",
      "INFO:tensorflow:Restoring parameters from C:\\Users\\archi\\AppData\\Local\\Temp\\tmptbudqe14\\model.ckpt-5860\n",
      "INFO:tensorflow:Running local_init_op.\n",
      "INFO:tensorflow:Done running local_init_op.\n",
      "INFO:tensorflow:Inference Time : 3.40468s\n",
      "INFO:tensorflow:Finished evaluation at 2021-01-24-15:04:39\n",
      "INFO:tensorflow:Saving dict for global step 5860: accuracy = 0.1956, global_step = 5860, loss = 2.3149865\n",
      "INFO:tensorflow:Saving 'checkpoint_path' summary for global step 5860: C:\\Users\\archi\\AppData\\Local\\Temp\\tmptbudqe14\\model.ckpt-5860\n"
     ]
    },
    {
     "data": {
      "text/plain": [
       "{'accuracy': 0.1956, 'loss': 2.3149865, 'global_step': 5860}"
      ]
     },
     "execution_count": 29,
     "metadata": {},
     "output_type": "execute_result"
    }
   ],
   "source": [
    "estimator.evaluate(lambda: input_fn(test_images, test_labels, epochs=1, batch_size=BATCH_SIZE))"
   ]
  },
  {
   "cell_type": "code",
   "execution_count": null,
   "metadata": {},
   "outputs": [],
   "source": []
  }
 ],
 "metadata": {
  "kernelspec": {
   "display_name": "Python 3",
   "language": "python",
   "name": "python3"
  },
  "language_info": {
   "codemirror_mode": {
    "name": "ipython",
    "version": 3
   },
   "file_extension": ".py",
   "mimetype": "text/x-python",
   "name": "python",
   "nbconvert_exporter": "python",
   "pygments_lexer": "ipython3",
   "version": "3.7.4"
  }
 },
 "nbformat": 4,
 "nbformat_minor": 4
}
